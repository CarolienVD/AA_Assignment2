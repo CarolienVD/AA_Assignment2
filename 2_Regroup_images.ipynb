{
 "cells": [
  {
   "cell_type": "code",
   "execution_count": null,
   "id": "0",
   "metadata": {},
   "outputs": [],
   "source": [
    "import os\n",
    "import shutil\n",
    "import pandas as pd\n",
    "import numpy as np\n",
    "from tqdm import tqdm\n",
    "from sklearn.cluster import KMeans\n",
    "from sklearn.metrics import silhouette_score"
   ]
  },
  {
   "cell_type": "markdown",
   "id": "1",
   "metadata": {},
   "source": [
    "# Get lat and lon per image"
   ]
  },
  {
   "cell_type": "code",
   "execution_count": null,
   "id": "2",
   "metadata": {},
   "outputs": [],
   "source": [
    "def parse_filename(filename):\n",
    "    try:\n",
    "        parts = filename.replace('.jpg', '').split('_')\n",
    "        lat = float(parts[1])\n",
    "        lon = float(parts[2])\n",
    "        return lat, lon\n",
    "    except Exception:\n",
    "        return None, None"
   ]
  },
  {
   "cell_type": "code",
   "execution_count": null,
   "id": "3",
   "metadata": {},
   "outputs": [],
   "source": [
    "data = []\n",
    "for country in os.listdir('images'):\n",
    "    country_path = os.path.join('images', country)\n",
    "    if not os.path.isdir(country_path):\n",
    "        continue\n",
    "    for fname in os.listdir(country_path):\n",
    "        lat, lon = parse_filename(fname)\n",
    "        if lat is None or lon is None:\n",
    "            continue\n",
    "        path = os.path.join(country_path, fname)\n",
    "        data.append((path, country, lat, lon))\n",
    "\n",
    "df = pd.DataFrame(data, columns=['path', 'country', 'lat', 'lon'])\n",
    "display(df)"
   ]
  },
  {
   "cell_type": "markdown",
   "id": "4",
   "metadata": {},
   "source": [
    "# Remove outliers manually\n",
    "\n",
    "Based on visual inspection: 3 sets of coordinates are incorrect for France"
   ]
  },
  {
   "cell_type": "code",
   "execution_count": null,
   "id": "5",
   "metadata": {},
   "outputs": [],
   "source": [
    "df = df[~((df['country'] == 'france') & (df['lat'] < 0))]"
   ]
  },
  {
   "cell_type": "markdown",
   "id": "6",
   "metadata": {},
   "source": [
    "# K-means clustering on coordinates"
   ]
  },
  {
   "cell_type": "code",
   "execution_count": null,
   "id": "7",
   "metadata": {},
   "outputs": [],
   "source": [
    "country_clusters = {}\n",
    "\n",
    "for country in df['country'].unique():\n",
    "\n",
    "    diff_lat = df[df['country'] == country]['lat'].max() - df[df['country'] == country]['lat'].min()\n",
    "    diff_lon = df[df['country'] == country]['lon'].max() - df[df['country'] == country]['lon'].min()\n",
    "\n",
    "    if diff_lat < 2 and diff_lon < 5:\n",
    "        country_clusters[country] = 1 # Country too small to cluster\n",
    "        df.loc[df['country'] == country, 'region_cluster'] = f\"{country}_cluster0\"\n",
    "    else:\n",
    "        coords = df[df['country'] == country][['lat', 'lon']].to_numpy()\n",
    "\n",
    "        if len(coords) < 10:\n",
    "            continue  # Not enough data for clustering\n",
    "\n",
    "        best_k = 1\n",
    "        best_score = -1\n",
    "        for k in range(2, 6):  # Try clustering into 1–5 regions\n",
    "            kmeans = KMeans(n_clusters=k, random_state=42)\n",
    "            labels = kmeans.fit_predict(coords)\n",
    "            score = silhouette_score(coords, labels)\n",
    "            if score > best_score:\n",
    "                best_score = score\n",
    "                best_k = k\n",
    "\n",
    "        # Run final clustering with best_k\n",
    "        kmeans = KMeans(n_clusters=best_k, random_state=16)\n",
    "        labels = kmeans.fit_predict(coords)\n",
    "\n",
    "        df.loc[df['country'] == country, 'region_cluster'] = [\n",
    "            f\"{country}_cluster{l}\" for l in labels\n",
    "        ]\n",
    "\n",
    "        country_clusters[country] = best_k\n",
    "\n",
    "print(country_clusters)"
   ]
  },
  {
   "cell_type": "code",
   "execution_count": null,
   "id": "8",
   "metadata": {},
   "outputs": [],
   "source": [
    "display(df)"
   ]
  },
  {
   "cell_type": "markdown",
   "id": "9",
   "metadata": {},
   "source": [
    "# Inspect result"
   ]
  },
  {
   "cell_type": "code",
   "execution_count": null,
   "id": "10",
   "metadata": {},
   "outputs": [],
   "source": [
    "df.isnull().values.any()"
   ]
  },
  {
   "cell_type": "code",
   "execution_count": null,
   "id": "11",
   "metadata": {},
   "outputs": [],
   "source": [
    "df[pd.isna(df['region_cluster'])]"
   ]
  },
  {
   "cell_type": "code",
   "execution_count": null,
   "id": "12",
   "metadata": {},
   "outputs": [],
   "source": [
    "df[df['lon'].round(6) == 10.749816]"
   ]
  },
  {
   "cell_type": "code",
   "execution_count": null,
   "id": "13",
   "metadata": {},
   "outputs": [],
   "source": [
    "# make folders to inspect clustered images, in this case for France\n",
    "\n",
    "inspection_dir = 'test_images/france_region_inspection'  # Where to store visual inspection folders\n",
    "\n",
    "df_country = df[df['country'] == 'france']\n",
    "\n",
    "# Create inspection folders and copy images\n",
    "os.makedirs(inspection_dir, exist_ok=True)\n",
    "\n",
    "for _, row in tqdm(df_country.iterrows(), total=len(df_country), desc=\"Copying images\"):\n",
    "    region_folder = os.path.join(inspection_dir, row['region_cluster'])\n",
    "    os.makedirs(region_folder, exist_ok=True)\n",
    "\n",
    "    # Keep the original filename, or add info if you prefer\n",
    "    dst_path = os.path.join(region_folder, os.path.basename(row['path']))\n",
    "    shutil.copyfile(row['path'], dst_path)"
   ]
  },
  {
   "cell_type": "markdown",
   "id": "14",
   "metadata": {},
   "source": [
    "# Save image clusters"
   ]
  },
  {
   "cell_type": "code",
   "execution_count": null,
   "id": "15",
   "metadata": {},
   "outputs": [],
   "source": [
    "df.to_pickle(\"intermediate/region_clusters.pkl\") "
   ]
  },
  {
   "cell_type": "markdown",
   "id": "16",
   "metadata": {},
   "source": [
    "# Old: use coordinate bins"
   ]
  },
  {
   "cell_type": "code",
   "execution_count": null,
   "id": "17",
   "metadata": {},
   "outputs": [],
   "source": [
    "# First try out for one country\n",
    "\n",
    "REGION_GRID_SIZE = 2  # Try 5 or 10 for much coarser bins\n",
    "\n",
    "data = []\n",
    "country = 'france'\n",
    "for fname in os.listdir('images/france'):\n",
    "    lat, lon = parse_filename(fname)\n",
    "    if lat is None or lon is None:\n",
    "        continue\n",
    "    lat_bucket = bucket_coord(lat, REGION_GRID_SIZE)\n",
    "    lon_bucket = bucket_coord(lon, REGION_GRID_SIZE)\n",
    "    region = f\"{lat_bucket}_{lon_bucket}\"\n",
    "    path = os.path.join('images/france', fname)\n",
    "    label = f\"{country}_{region}\"\n",
    "    data.append((path, country, region, label))\n",
    "\n",
    "df = pd.DataFrame(data, columns=['path', 'country', 'region', 'country_region'])\n",
    "display(df)"
   ]
  },
  {
   "cell_type": "code",
   "execution_count": null,
   "id": "18",
   "metadata": {},
   "outputs": [],
   "source": [
    "inspection_dir = 'france_region_inspection'  # Where to store visual inspection folders\n",
    "\n",
    "# Create inspection folders and copy images\n",
    "os.makedirs(inspection_dir, exist_ok=True)\n",
    "\n",
    "for _, row in tqdm(df.iterrows(), total=len(df), desc=\"Copying images\"):\n",
    "    region_folder = os.path.join(inspection_dir, row['country_region'])\n",
    "    os.makedirs(region_folder, exist_ok=True)\n",
    "\n",
    "    # Keep the original filename, or add info if you prefer\n",
    "    dst_path = os.path.join(region_folder, os.path.basename(row['path']))\n",
    "    shutil.copyfile(row['path'], dst_path)"
   ]
  },
  {
   "cell_type": "code",
   "execution_count": null,
   "id": "19",
   "metadata": {},
   "outputs": [],
   "source": [
    "# Same for all countries\n",
    "\n",
    "REGION_GRID_SIZE = 2  # Try 5 or 10 for much coarser bins\n",
    "\n",
    "def bucket_coord(coord, size):\n",
    "    return int(coord // size * size)\n",
    "\n",
    "data = []\n",
    "for country in os.listdir('images'):\n",
    "    country_path = os.path.join('images', country)\n",
    "    if not os.path.isdir(country_path):\n",
    "        continue\n",
    "    for fname in os.listdir(country_path):\n",
    "        lat, lon = parse_filename(fname)\n",
    "        if lat is None or lon is None:\n",
    "            continue\n",
    "        lat_bucket = bucket_coord(lat, REGION_GRID_SIZE)\n",
    "        region = f\"{lat_bucket}\"\n",
    "        path = os.path.join(country_path, fname)\n",
    "        label = f\"{country}_{region}\"\n",
    "        data.append((path, country, region, label))\n",
    "\n",
    "df = pd.DataFrame(data, columns=['path', 'country', 'region', 'country_region'])\n",
    "display(df)"
   ]
  },
  {
   "cell_type": "code",
   "execution_count": null,
   "id": "20",
   "metadata": {},
   "outputs": [],
   "source": []
  }
 ],
 "metadata": {
  "kernelspec": {
   "display_name": "Python 3 (ipykernel)",
   "language": "python",
   "name": "python3"
  },
  "language_info": {
   "codemirror_mode": {
    "name": "ipython",
    "version": 3
   },
   "file_extension": ".py",
   "mimetype": "text/x-python",
   "name": "python",
   "nbconvert_exporter": "python",
   "pygments_lexer": "ipython3",
   "version": "3.12.4"
  }
 },
 "nbformat": 4,
 "nbformat_minor": 5
}
