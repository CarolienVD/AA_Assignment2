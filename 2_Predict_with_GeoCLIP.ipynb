{
 "cells": [
  {
   "cell_type": "code",
   "execution_count": null,
   "id": "0",
   "metadata": {},
   "outputs": [],
   "source": [
    "import numpy as np\n",
    "import pandas as pd\n",
    "from geoclip import GeoCLIP\n",
    "from geopy.geocoders import Nominatim\n",
    "from collections import Counter, defaultdict\n",
    "import cv2\n",
    "import random"
   ]
  },
  {
   "cell_type": "code",
   "execution_count": null,
   "id": "1",
   "metadata": {},
   "outputs": [],
   "source": [
    "pd.set_option(\"display.max_colwidth\", None)"
   ]
  },
  {
   "cell_type": "code",
   "execution_count": null,
   "id": "2",
   "metadata": {},
   "outputs": [],
   "source": [
    "df_train = pd.read_pickle(\"intermediate/df_train.pkl\")\n",
    "df_train.head()"
   ]
  },
  {
   "cell_type": "markdown",
   "id": "3",
   "metadata": {},
   "source": [
    "Use training data to determine lat/lon boundaries for region clusters"
   ]
  },
  {
   "cell_type": "code",
   "execution_count": null,
   "id": "4",
   "metadata": {},
   "outputs": [],
   "source": [
    "region_bounds = df_train.groupby(\"region_cluster\").agg(\n",
    "    min_latitude=(\"latitude\", \"min\"),\n",
    "    max_latitude=(\"latitude\", \"max\"),\n",
    "    min_longitude=(\"longitude\", \"min\"),\n",
    "    max_longitude=(\"longitude\", \"max\")\n",
    ").reset_index()\n",
    "\n",
    "region_bounds"
   ]
  },
  {
   "cell_type": "code",
   "execution_count": null,
   "id": "5",
   "metadata": {},
   "outputs": [],
   "source": [
    "valid_countries = df_train['country'].unique().tolist()\n",
    "valid_countries"
   ]
  },
  {
   "cell_type": "code",
   "execution_count": null,
   "id": "6",
   "metadata": {},
   "outputs": [],
   "source": [
    "country_bounds = df_train.groupby([\"country\", \"region_cluster\"]).agg(\n",
    "    min_latitude=(\"latitude\", \"min\"),\n",
    "    max_latitude=(\"latitude\", \"max\"),\n",
    "    min_longitude=(\"longitude\", \"min\"),\n",
    "    max_longitude=(\"longitude\", \"max\")\n",
    ").reset_index()\n",
    "\n",
    "country_bounds"
   ]
  },
  {
   "cell_type": "code",
   "execution_count": null,
   "id": "7",
   "metadata": {},
   "outputs": [],
   "source": [
    "# to use for images that cannot be classified based on coordinate ranges\n",
    "\n",
    "locator = Nominatim(user_agent=\"abcd\")"
   ]
  },
  {
   "cell_type": "code",
   "execution_count": null,
   "id": "8",
   "metadata": {},
   "outputs": [],
   "source": [
    "model = GeoCLIP()"
   ]
  },
  {
   "cell_type": "code",
   "execution_count": null,
   "id": "9",
   "metadata": {},
   "outputs": [],
   "source": [
    "def auto_crop_black_borders(img, threshold=10):\n",
    "    \"\"\"\n",
    "    Crop black borders from the right and bottom of an image.\n",
    "    \n",
    "    Parameters:\n",
    "        img: Input image (NumPy array)\n",
    "        threshold: Pixel intensity threshold to consider a pixel as \"non-black\"\n",
    "    \n",
    "    Returns:\n",
    "        Cropped image (without black borders)\n",
    "    \"\"\"\n",
    "    if len(img.shape) == 3:\n",
    "        gray = cv2.cvtColor(img, cv2.COLOR_BGR2GRAY)\n",
    "    else:\n",
    "        gray = img\n",
    "\n",
    "    # Create a binary mask of non-black pixels\n",
    "    mask = gray > threshold\n",
    "\n",
    "    # Find the bounding box of the non-black area\n",
    "    rows = np.any(mask, axis=1)\n",
    "    cols = np.any(mask, axis=0)\n",
    "\n",
    "    if not np.any(rows) or not np.any(cols):\n",
    "        return img  # nothing to crop\n",
    "\n",
    "    y_min, y_max = np.where(rows)[0][[0, -1]]\n",
    "    x_min, x_max = np.where(cols)[0][[0, -1]]\n",
    "\n",
    "    cropped = img[y_min:y_max+1, x_min:x_max+1]\n",
    "    return cropped"
   ]
  },
  {
   "cell_type": "code",
   "execution_count": null,
   "id": "10",
   "metadata": {},
   "outputs": [],
   "source": [
    "def equirectangular_to_perspective(equi_img, fov, theta, height, width):\n",
    "    \"\"\"\n",
    "    Simplified conversion from equirectangular to perspective.\n",
    "    Only horizontal rotation (theta). No vertical tilt or stretch correction.\n",
    "\n",
    "    Parameters:\n",
    "        equi_img: Equirectangular input image (OpenCV format)\n",
    "        fov: Horizontal field of view in degrees\n",
    "        theta: Yaw angle in degrees (0 = front, 90 = right, etc.)\n",
    "        height, width: Output dimensions\n",
    "\n",
    "    Returns:\n",
    "        Perspective view image\n",
    "    \"\"\"\n",
    "    equ_h, equ_w = equi_img.shape[:2]\n",
    "\n",
    "    # Convert angles to radians\n",
    "    fov_rad = np.deg2rad(fov)\n",
    "    theta_rad = np.deg2rad(theta)\n",
    "\n",
    "    # Grid of x, y in normalized view space\n",
    "    x = np.linspace(-np.tan(fov_rad / 2), np.tan(fov_rad / 2), width)\n",
    "    y = np.linspace(-1, 1, height)  # keep vertical stretch simple\n",
    "    x, y = np.meshgrid(x, -y)  # flip y for image orientation\n",
    "    z = np.ones_like(x)\n",
    "\n",
    "    # Normalize direction vectors\n",
    "    norm = np.sqrt(x**2 + y**2 + z**2)\n",
    "    x /= norm\n",
    "    y /= norm\n",
    "    z /= norm\n",
    "\n",
    "    # Rotate around Y axis (theta)\n",
    "    x_rot = np.cos(theta_rad) * x + np.sin(theta_rad) * z\n",
    "    z_rot = -np.sin(theta_rad) * x + np.cos(theta_rad) * z\n",
    "\n",
    "    # Convert to spherical coordinates\n",
    "    lon = np.arctan2(x_rot, z_rot)\n",
    "    lat = np.arcsin(y)\n",
    "\n",
    "    # Map to image coordinates\n",
    "    u = (lon + np.pi) / (2 * np.pi) * equ_w\n",
    "    v = (np.pi / 2 - lat) / np.pi * equ_h\n",
    "\n",
    "    # Remap\n",
    "    u = u.astype(np.float32)\n",
    "    v = v.astype(np.float32)\n",
    "    perspective = cv2.remap(equi_img, u, v, interpolation=cv2.INTER_LINEAR, borderMode=cv2.BORDER_WRAP)\n",
    "\n",
    "    return perspective"
   ]
  },
  {
   "cell_type": "code",
   "execution_count": null,
   "id": "11",
   "metadata": {},
   "outputs": [],
   "source": [
    "from geopy.extra.rate_limiter import RateLimiter\n",
    "\n",
    "# Initialize geolocator and rate limiter\n",
    "reverse_geocode = RateLimiter(locator.reverse, min_delay_seconds=1)  # limit the frequency of requests\n",
    "\n",
    "# Cache dictionary\n",
    "cache = {}\n",
    "\n",
    "def get_country_with_cache(lat, lon):\n",
    "    key = (round(lat, 1), round(lon, 1))  # round lat/lon to handle small variations\n",
    "    if key in cache:\n",
    "        return cache[key]\n",
    "    \n",
    "    try:\n",
    "        # Perform the reverse geocoding query\n",
    "        location = reverse_geocode(f\"{lat}, {lon}\", language=\"en\", addressdetails=True, zoom=3)\n",
    "        country = location.raw.get('address', {}).get('country', None)\n",
    "        cache[key] = country  # store result in cache\n",
    "        return country\n",
    "    except Exception as e:\n",
    "        return None"
   ]
  },
  {
   "cell_type": "code",
   "execution_count": null,
   "id": "12",
   "metadata": {},
   "outputs": [],
   "source": [
    "def get_candidate_areas(lat, lon, bounds_df):\n",
    "    candidates = bounds_df[\n",
    "        (bounds_df[\"min_latitude\"] <= lat) & (lat <= bounds_df[\"max_latitude\"]) &\n",
    "        (bounds_df[\"min_longitude\"] <= lon) & (lon <= bounds_df[\"max_longitude\"])\n",
    "    ]\n",
    "    return candidates[\"country\"].tolist(), candidates[\"region_cluster\"].tolist()\n",
    "\n",
    "def assign_location(lat, lon, bounds_df = country_bounds, geocode_fallback=None):\n",
    "    country_candidates, region_candidates = get_candidate_areas(lat, lon, bounds_df)\n",
    "\n",
    "    # Determine country\n",
    "    if len(country_candidates) == 1:\n",
    "        country = country_candidates[0]\n",
    "    elif len(country_candidates) > 1 and geocode_fallback:\n",
    "        country = geocode_fallback(lat, lon)\n",
    "    else:\n",
    "        country = \"unknown\"\n",
    "\n",
    "    # Determine region_cluster\n",
    "    region_cluster = region_candidates[0] if len(region_candidates) >= 1 else \"ambiguous\"\n",
    "\n",
    "    return country, region_cluster"
   ]
  },
  {
   "cell_type": "code",
   "execution_count": null,
   "id": "13",
   "metadata": {},
   "outputs": [],
   "source": [
    "\n",
    "def process_image_adjusted(image_path):\n",
    "    \"\"\"Process one image: split into 4 slices, predict countries, and return majority vote.\"\"\"\n",
    "    img = cv2.imread(image_path)\n",
    "    img = cv2.cvtColor(img, cv2.COLOR_BGR2RGB)  # Convert from BGR to RGB\n",
    "    img = auto_crop_black_borders(img)  # Remove black borders if needed\n",
    "    \n",
    "    all_countries = []\n",
    "    all_coords_by_country = defaultdict(list)\n",
    "    valid_countries_list = []\n",
    "    valid_coords_by_country = defaultdict(list)\n",
    "    \n",
    "    # Split the image into 4 slices and predict for each slice\n",
    "    for i in range(4):\n",
    "        view = equirectangular_to_perspective(img, fov=90, theta=i*90, height=480, width=600)\n",
    "        cv2.imwrite('intermediate/current_geo_clip_view.jpg', view)\n",
    "        \n",
    "        # Predict the coordinates for the slice\n",
    "        top_pred_coords, _ = model.predict('intermediate/current_geo_clip_view.jpg', top_k=3)\n",
    "\n",
    "        for lat, lon in top_pred_coords:\n",
    "            lat_rounded = round(float(lat), 2)\n",
    "            lon_rounded = round(float(lon), 2)\n",
    "\n",
    "            country_from_bounds, region_from_bounds = assign_location(lat_rounded, lon_rounded)\n",
    "\n",
    "            if country_from_bounds == \"unknown\":\n",
    "            \n",
    "                country = get_country_with_cache(lat_rounded, lon_rounded)\n",
    "\n",
    "            else: country = country_from_bounds\n",
    "\n",
    "            if country is None:\n",
    "                continue  # skip if no country was returned\n",
    "\n",
    "            country = country.lower().replace(' ', '_')\n",
    "            all_countries.append(country)\n",
    "            all_coords_by_country[country].append((lat_rounded, lon_rounded))\n",
    "\n",
    "            print(country)\n",
    "\n",
    "            if country in valid_countries:\n",
    "                valid_countries_list.append(country)\n",
    "                valid_coords_by_country[country].append((lat_rounded, lon_rounded))\n",
    "\n",
    "    if valid_countries_list:\n",
    "        majority_country = Counter(valid_countries_list).most_common(1)[0][0]\n",
    "        majority_coords = random.choice(valid_coords_by_country[majority_country])\n",
    "    elif all_countries:\n",
    "        majority_country = Counter(all_countries).most_common(1)[0][0]\n",
    "        majority_coords = random.choice(all_coords_by_country[majority_country])\n",
    "    else:\n",
    "        return None  # no valid or fallback predictions\n",
    "\n",
    "    country_from_bounds, region_from_bounds = assign_location(majority_coords[0], majority_coords[1])\n",
    "\n",
    "    return [majority_coords[0], majority_coords[1], majority_country]"
   ]
  },
  {
   "cell_type": "code",
   "execution_count": null,
   "id": "14",
   "metadata": {},
   "outputs": [],
   "source": [
    "process_image_adjusted('images/japan/1741695546_36.823432_139.5921591.jpg')"
   ]
  },
  {
   "cell_type": "code",
   "execution_count": null,
   "id": "15",
   "metadata": {},
   "outputs": [],
   "source": [
    "assign_location(42.55, 1.8, country_bounds)"
   ]
  },
  {
   "cell_type": "code",
   "execution_count": null,
   "id": "16",
   "metadata": {},
   "outputs": [],
   "source": [
    "df_test = pd.read_pickle(\"intermediate/df_test.pkl\")\n",
    "df_test.head()"
   ]
  },
  {
   "cell_type": "code",
   "execution_count": null,
   "id": "17",
   "metadata": {},
   "outputs": [],
   "source": [
    "df_test_pred = df_test.copy()"
   ]
  },
  {
   "cell_type": "code",
   "execution_count": null,
   "id": "18",
   "metadata": {},
   "outputs": [],
   "source": [
    "df_test_pred[[\"pred_lat\", \"pred_lon\", \"pred_country\", \"pred_region_cluster\"]] = (\n",
    "    df_test_pred[\"full_path\"]\n",
    "    .apply(process_image_adjusted)\n",
    "    .apply(pd.Series)\n",
    ")"
   ]
  },
  {
   "cell_type": "code",
   "execution_count": null,
   "id": "19",
   "metadata": {},
   "outputs": [],
   "source": [
    "df_test_pred"
   ]
  },
  {
   "cell_type": "code",
   "execution_count": null,
   "id": "20",
   "metadata": {},
   "outputs": [],
   "source": [
    "df_test_pred.to_pickle(\"intermediate/df_test_pred_GeoCLIP.pkl\") "
   ]
  },
  {
   "cell_type": "code",
   "execution_count": null,
   "id": "21",
   "metadata": {},
   "outputs": [],
   "source": [
    "df_test_pred = pd.read_pickle(\"intermediate/df_test_pred_GeoCLIP.pkl\") "
   ]
  },
  {
   "cell_type": "code",
   "execution_count": null,
   "id": "22",
   "metadata": {},
   "outputs": [],
   "source": [
    "df_test_pred_only = df_test_pred[['country', 'pred_country']].copy()\n",
    "df_test_pred_only.loc[~df_test_pred_only['pred_country'].isin(valid_countries), 'pred_country'] = 'other'\n",
    "\n",
    "df_test_pred_only"
   ]
  },
  {
   "cell_type": "code",
   "execution_count": null,
   "id": "23",
   "metadata": {},
   "outputs": [],
   "source": [
    "from sklearn.metrics import classification_report"
   ]
  },
  {
   "cell_type": "code",
   "execution_count": null,
   "id": "24",
   "metadata": {},
   "outputs": [],
   "source": [
    "report_dict = classification_report(df_test_pred_only['country'], df_test_pred_only['pred_country'], output_dict=True)"
   ]
  },
  {
   "cell_type": "code",
   "execution_count": null,
   "id": "25",
   "metadata": {},
   "outputs": [],
   "source": [
    "pd.DataFrame(report_dict).transpose()"
   ]
  },
  {
   "cell_type": "code",
   "execution_count": null,
   "id": "26",
   "metadata": {},
   "outputs": [],
   "source": [
    "pd.crosstab(df_test_pred_only['country'], df_test_pred_only['pred_country'])"
   ]
  }
 ],
 "metadata": {
  "kernelspec": {
   "display_name": "Python 3 (ipykernel)",
   "language": "python",
   "name": "python3"
  },
  "language_info": {
   "codemirror_mode": {
    "name": "ipython",
    "version": 3
   },
   "file_extension": ".py",
   "mimetype": "text/x-python",
   "name": "python",
   "nbconvert_exporter": "python",
   "pygments_lexer": "ipython3",
   "version": "3.12.4"
  }
 },
 "nbformat": 4,
 "nbformat_minor": 5
}
