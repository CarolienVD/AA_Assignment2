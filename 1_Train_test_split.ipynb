{
 "cells": [
  {
   "cell_type": "code",
   "execution_count": null,
   "id": "0",
   "metadata": {},
   "outputs": [],
   "source": [
    "import os\n",
    "import pandas as pd\n",
    "import numpy as np\n",
    "import plotly.graph_objects as go\n",
    "from sklearn.cluster import DBSCAN, KMeans\n",
    "from sklearn.model_selection import train_test_split"
   ]
  },
  {
   "cell_type": "markdown",
   "id": "1",
   "metadata": {},
   "source": [
    "# Check image coordinates\n",
    "\n",
    "- Images with very similar coordinates should be together in train / test set to avoid data leakage (almost identical images)\n",
    "- Check image locations geographically (e.g. mountainous areas in France, Switzerland, Austria, Italy are likely very close together)"
   ]
  },
  {
   "cell_type": "code",
   "execution_count": null,
   "id": "2",
   "metadata": {},
   "outputs": [],
   "source": [
    "# make df with file path, country, and coordinates of the image\n",
    "\n",
    "data = []\n",
    "for root, dirs, files in os.walk('images'):\n",
    "    for filename in files:\n",
    "        if filename.endswith('.jpg'):\n",
    "            try:\n",
    "                parts = filename.split(\"_\")\n",
    "                lat = float(parts[1])\n",
    "                lon = float(parts[2].replace(\".jpg\", \"\"))\n",
    "                full_path = os.path.join(root, filename)\n",
    "                country = root.split(\"/\")[1]\n",
    "                data.append({\n",
    "                    \"filename\": filename,\n",
    "                    \"full_path\": full_path,\n",
    "                    \"country\": country,\n",
    "                    \"latitude\": lat,\n",
    "                    \"longitude\": lon\n",
    "                })\n",
    "            except Exception as e:\n",
    "                print(f\"Skipping {filename}: {e}\")\n",
    "\n",
    "df = pd.DataFrame(data)"
   ]
  },
  {
   "cell_type": "code",
   "execution_count": null,
   "id": "3",
   "metadata": {},
   "outputs": [],
   "source": [
    "df.head()"
   ]
  },
  {
   "cell_type": "code",
   "execution_count": null,
   "id": "4",
   "metadata": {},
   "outputs": [],
   "source": [
    "df.shape"
   ]
  },
  {
   "cell_type": "code",
   "execution_count": null,
   "id": "5",
   "metadata": {},
   "outputs": [],
   "source": [
    "df['country'].value_counts(normalize = True)"
   ]
  },
  {
   "cell_type": "code",
   "execution_count": null,
   "id": "6",
   "metadata": {},
   "outputs": [],
   "source": [
    "# +/- 8 regions can be identified (some a lot larger (more images - more variable) than others)\n",
    "\n",
    "fig = go.Figure(data=go.Scattergeo(\n",
    "        lon = df['longitude'],\n",
    "        lat = df['latitude'],\n",
    "        mode = 'markers',\n",
    "        marker_color = '#4287f5'\n",
    "        ))\n",
    "\n",
    "# fig.update_layout(\n",
    "#         geo_scope='europe',\n",
    "#     )\n",
    "\n",
    "fig.update_layout(height=500)\n",
    "\n",
    "fig.show()"
   ]
  },
  {
   "cell_type": "markdown",
   "id": "7",
   "metadata": {},
   "source": [
    "# Make clusters based on proximity\n",
    "\n",
    "To avoid data leakage: locations close together should be together in the train or test set\n",
    "<br>Use a distance of 100m"
   ]
  },
  {
   "cell_type": "code",
   "execution_count": null,
   "id": "8",
   "metadata": {},
   "outputs": [],
   "source": [
    "coords_rad = np.radians(df[[\"latitude\", \"longitude\"]])\n",
    "db_local = DBSCAN(eps=100/6371000, min_samples=1, metric=\"haversine\") \n",
    "df[\"local_cluster\"] = db_local.fit_predict(coords_rad)"
   ]
  },
  {
   "cell_type": "code",
   "execution_count": null,
   "id": "9",
   "metadata": {},
   "outputs": [],
   "source": [
    "df[df['full_path'].str.contains('argentina')].sort_values('longitude').head(10)"
   ]
  },
  {
   "cell_type": "code",
   "execution_count": null,
   "id": "10",
   "metadata": {},
   "outputs": [],
   "source": [
    "df[\"local_cluster\"].nunique()"
   ]
  },
  {
   "cell_type": "markdown",
   "id": "11",
   "metadata": {},
   "source": [
    "# Create clusters distinguishable on world map"
   ]
  },
  {
   "cell_type": "code",
   "execution_count": null,
   "id": "12",
   "metadata": {},
   "outputs": [],
   "source": [
    "kmeans = KMeans(n_clusters=8, random_state=16) # South-America is split up rather than considering Mauritius / Reunion as a separate region\n",
    "\n",
    "df[\"region_cluster\"] = kmeans.fit_predict(df[[\"latitude\", \"longitude\"]])"
   ]
  },
  {
   "cell_type": "code",
   "execution_count": null,
   "id": "13",
   "metadata": {},
   "outputs": [],
   "source": [
    "df[\"region_cluster\"] = np.where((df[\"latitude\"].between(-22, -18)) & (df[\"longitude\"].between(52, 58)), 8, df[\"region_cluster\"])"
   ]
  },
  {
   "cell_type": "code",
   "execution_count": null,
   "id": "14",
   "metadata": {},
   "outputs": [],
   "source": [
    "color_palette = [\"#1f77b4\", \"#ff7f0e\", \"#2ca02c\", \"#d62728\", \"#f5da42\", \"#8c564b\", \"#e377c2\", \"#42e3f5\", \"#b146e3\"]\n",
    "\n",
    "df[\"color\"] = df[\"region_cluster\"].map(lambda x: color_palette[x % len(color_palette)])"
   ]
  },
  {
   "cell_type": "code",
   "execution_count": null,
   "id": "15",
   "metadata": {},
   "outputs": [],
   "source": [
    "df[df['region_cluster'] == 8]"
   ]
  },
  {
   "cell_type": "code",
   "execution_count": null,
   "id": "16",
   "metadata": {},
   "outputs": [],
   "source": [
    "df.head()"
   ]
  },
  {
   "cell_type": "code",
   "execution_count": null,
   "id": "17",
   "metadata": {},
   "outputs": [],
   "source": [
    "df['region_cluster'].value_counts(normalize = True)"
   ]
  },
  {
   "cell_type": "code",
   "execution_count": null,
   "id": "18",
   "metadata": {},
   "outputs": [],
   "source": [
    "fig = go.Figure(data=go.Scattergeo(\n",
    "        lon = df['longitude'],\n",
    "        lat = df['latitude'],\n",
    "        mode = 'markers',\n",
    "        text = df['region_cluster'],\n",
    "        marker_color = df['color']\n",
    "        ))\n",
    "\n",
    "# fig.update_layout(\n",
    "#         geo_scope='europe',\n",
    "#     )\n",
    "\n",
    "fig.update_layout(height=500)\n",
    "\n",
    "fig.show()"
   ]
  },
  {
   "cell_type": "code",
   "execution_count": null,
   "id": "19",
   "metadata": {},
   "outputs": [],
   "source": []
  },
  {
   "cell_type": "markdown",
   "id": "20",
   "metadata": {},
   "source": [
    "# Split train and test set (stratified)"
   ]
  },
  {
   "cell_type": "code",
   "execution_count": null,
   "id": "21",
   "metadata": {},
   "outputs": [],
   "source": [
    "# first get country on local_cluster level to use it for stratification\n",
    "\n",
    "cluster_df = df.groupby('local_cluster').first().reset_index()\n",
    "cluster_df.head()"
   ]
  },
  {
   "cell_type": "code",
   "execution_count": null,
   "id": "22",
   "metadata": {},
   "outputs": [],
   "source": [
    "train_clusters, test_clusters = train_test_split(cluster_df['local_cluster'], test_size = 0.2, stratify = cluster_df['country'], random_state = 16)\n",
    "df['set'] = np.where(df['local_cluster'].isin(train_clusters), 'train', 'test')"
   ]
  },
  {
   "cell_type": "code",
   "execution_count": null,
   "id": "23",
   "metadata": {},
   "outputs": [],
   "source": [
    "df_train = df[df['set'] == 'train']\n",
    "df_train.shape"
   ]
  },
  {
   "cell_type": "code",
   "execution_count": null,
   "id": "24",
   "metadata": {},
   "outputs": [],
   "source": [
    "df_test = df[df['set'] == 'test']\n",
    "df_test.shape"
   ]
  },
  {
   "cell_type": "code",
   "execution_count": null,
   "id": "25",
   "metadata": {},
   "outputs": [],
   "source": [
    "df_train.to_pickle(\"intermediate/df_train.pkl\") \n",
    "df_test.to_pickle(\"intermediate/df_test.pkl\") "
   ]
  },
  {
   "cell_type": "markdown",
   "id": "26",
   "metadata": {},
   "source": [
    "# Compare distribution of countries in train and test set"
   ]
  },
  {
   "cell_type": "code",
   "execution_count": null,
   "id": "27",
   "metadata": {},
   "outputs": [],
   "source": [
    "cluster_counts_train = df_train.groupby(\"country\")[\"local_cluster\"].nunique()\n",
    "cluster_pct_train = cluster_counts_train / cluster_counts_train.sum() * 100\n",
    "cluster_pct_train.round(2).sort_values(ascending=False)"
   ]
  },
  {
   "cell_type": "code",
   "execution_count": null,
   "id": "28",
   "metadata": {},
   "outputs": [],
   "source": [
    "cluster_counts_test = df_test.groupby(\"country\")[\"local_cluster\"].nunique()\n",
    "cluster_pct_test = cluster_counts_test / cluster_counts_test.sum() * 100\n",
    "cluster_pct_test.round(2).sort_values(ascending=False)"
   ]
  },
  {
   "cell_type": "code",
   "execution_count": null,
   "id": "29",
   "metadata": {},
   "outputs": [],
   "source": [
    "df_train['country'].value_counts(normalize = True)"
   ]
  },
  {
   "cell_type": "code",
   "execution_count": null,
   "id": "30",
   "metadata": {},
   "outputs": [],
   "source": [
    "df_test['country'].value_counts(normalize = True) # huge difference for New Zealand! many 'duplicate' images? yes, some are exact copies"
   ]
  }
 ],
 "metadata": {
  "kernelspec": {
   "display_name": "Python 3 (ipykernel)",
   "language": "python",
   "name": "python3"
  },
  "language_info": {
   "codemirror_mode": {
    "name": "ipython",
    "version": 3
   },
   "file_extension": ".py",
   "mimetype": "text/x-python",
   "name": "python",
   "nbconvert_exporter": "python",
   "pygments_lexer": "ipython3",
   "version": "3.12.4"
  }
 },
 "nbformat": 4,
 "nbformat_minor": 5
}
