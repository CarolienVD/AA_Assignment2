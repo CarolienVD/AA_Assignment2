{
 "cells": [
  {
   "cell_type": "code",
   "execution_count": null,
   "id": "0",
   "metadata": {},
   "outputs": [],
   "source": [
    "import cv2\n",
    "import numpy as np\n",
    "import matplotlib.pyplot as plt\n",
    "from geopy.geocoders import Nominatim"
   ]
  },
  {
   "cell_type": "code",
   "execution_count": null,
   "id": "1",
   "metadata": {},
   "outputs": [],
   "source": [
    "def auto_crop_black_borders(img, threshold=10):\n",
    "    \"\"\"\n",
    "    Crop black borders from the right and bottom of an image.\n",
    "    \n",
    "    Parameters:\n",
    "        img: Input image (NumPy array)\n",
    "        threshold: Pixel intensity threshold to consider a pixel as \"non-black\"\n",
    "    \n",
    "    Returns:\n",
    "        Cropped image (without black borders)\n",
    "    \"\"\"\n",
    "    if len(img.shape) == 3:\n",
    "        gray = cv2.cvtColor(img, cv2.COLOR_BGR2GRAY)\n",
    "    else:\n",
    "        gray = img\n",
    "\n",
    "    # Create a binary mask of non-black pixels\n",
    "    mask = gray > threshold\n",
    "\n",
    "    # Find the bounding box of the non-black area\n",
    "    rows = np.any(mask, axis=1)\n",
    "    cols = np.any(mask, axis=0)\n",
    "\n",
    "    if not np.any(rows) or not np.any(cols):\n",
    "        return img  # nothing to crop\n",
    "\n",
    "    y_min, y_max = np.where(rows)[0][[0, -1]]\n",
    "    x_min, x_max = np.where(cols)[0][[0, -1]]\n",
    "\n",
    "    cropped = img[y_min:y_max+1, x_min:x_max+1]\n",
    "    return cropped"
   ]
  },
  {
   "cell_type": "code",
   "execution_count": null,
   "id": "2",
   "metadata": {},
   "outputs": [],
   "source": [
    "def equirectangular_to_perspective(equi_img, fov, theta, height, width):\n",
    "    \"\"\"\n",
    "    Simplified conversion from equirectangular to perspective.\n",
    "    Only horizontal rotation (theta). No vertical tilt or stretch correction.\n",
    "\n",
    "    Parameters:\n",
    "        equi_img: Equirectangular input image (OpenCV format)\n",
    "        fov: Horizontal field of view in degrees\n",
    "        theta: Yaw angle in degrees (0 = front, 90 = right, etc.)\n",
    "        height, width: Output dimensions\n",
    "\n",
    "    Returns:\n",
    "        Perspective view image\n",
    "    \"\"\"\n",
    "    equ_h, equ_w = equi_img.shape[:2]\n",
    "\n",
    "    # Convert angles to radians\n",
    "    fov_rad = np.deg2rad(fov)\n",
    "    theta_rad = np.deg2rad(theta)\n",
    "\n",
    "    # Grid of x, y in normalized view space\n",
    "    x = np.linspace(-np.tan(fov_rad / 2), np.tan(fov_rad / 2), width)\n",
    "    y = np.linspace(-1, 1, height)  # keep vertical stretch simple\n",
    "    x, y = np.meshgrid(x, -y)  # flip y for image orientation\n",
    "    z = np.ones_like(x)\n",
    "\n",
    "    # Normalize direction vectors\n",
    "    norm = np.sqrt(x**2 + y**2 + z**2)\n",
    "    x /= norm\n",
    "    y /= norm\n",
    "    z /= norm\n",
    "\n",
    "    # Rotate around Y axis (theta)\n",
    "    x_rot = np.cos(theta_rad) * x + np.sin(theta_rad) * z\n",
    "    z_rot = -np.sin(theta_rad) * x + np.cos(theta_rad) * z\n",
    "\n",
    "    # Convert to spherical coordinates\n",
    "    lon = np.arctan2(x_rot, z_rot)\n",
    "    lat = np.arcsin(y)\n",
    "\n",
    "    # Map to image coordinates\n",
    "    u = (lon + np.pi) / (2 * np.pi) * equ_w\n",
    "    v = (np.pi / 2 - lat) / np.pi * equ_h\n",
    "\n",
    "    # Remap\n",
    "    u = u.astype(np.float32)\n",
    "    v = v.astype(np.float32)\n",
    "    perspective = cv2.remap(equi_img, u, v, interpolation=cv2.INTER_LINEAR, borderMode=cv2.BORDER_WRAP)\n",
    "\n",
    "    return perspective"
   ]
  },
  {
   "cell_type": "code",
   "execution_count": null,
   "id": "3",
   "metadata": {},
   "outputs": [],
   "source": [
    "# equi = cv2.imread('images/argentina/1741691006_-30.9927065_-68.8548332.jpg')\n",
    "# equi = cv2.imread('images/italy/1741643380_46.4216176_8.4171613.jpg')\n",
    "equi = cv2.imread('images/new_zealand/1741634412_-45.0330189_168.8001333.jpg')\n",
    "# equi = cv2.imread('images/new_zealand/1741634793_-45.0532313_168.8153141.jpg')\n",
    "# equi = cv2.imread('images/austria/1741629943_47.1592688_12.9692941.jpg')\n",
    "# equi = cv2.imread('images/austria/1741630217_46.952463_10.1505049.jpg')\n",
    "# equi = cv2.imread('images/norway/1741632139_59.5316586_11.001019.jpg')\n",
    "\n",
    "img = cv2.cvtColor(equi, cv2.COLOR_BGR2RGB)  # Convert from BGR to RGB\n",
    "\n",
    "plt.imshow(img)\n",
    "plt.axis('off')\n",
    "plt.show()"
   ]
  },
  {
   "cell_type": "code",
   "execution_count": null,
   "id": "4",
   "metadata": {},
   "outputs": [],
   "source": [
    "img = auto_crop_black_borders(img)\n",
    "\n",
    "plt.imshow(img)\n",
    "plt.axis('off')\n",
    "plt.show()"
   ]
  },
  {
   "cell_type": "code",
   "execution_count": null,
   "id": "5",
   "metadata": {},
   "outputs": [],
   "source": [
    "perspective_img = equirectangular_to_perspective(img, fov=100, theta=0, height=480, width=600)\n",
    "# cv2.imwrite('view_front.jpg', perspective_img)\n",
    "\n",
    "plt.imshow(perspective_img)\n",
    "plt.axis('off')\n",
    "plt.show()"
   ]
  },
  {
   "cell_type": "code",
   "execution_count": null,
   "id": "6",
   "metadata": {},
   "outputs": [],
   "source": [
    "cv2.imwrite('test_image_new_zealand.jpg', perspective_img)"
   ]
  },
  {
   "cell_type": "code",
   "execution_count": null,
   "id": "7",
   "metadata": {},
   "outputs": [],
   "source": [
    "import torch\n",
    "from geoclip import GeoCLIP\n",
    "\n",
    "model = GeoCLIP()"
   ]
  },
  {
   "cell_type": "code",
   "execution_count": null,
   "id": "8",
   "metadata": {},
   "outputs": [],
   "source": [
    "locator = Nominatim(user_agent=\"abcd\")"
   ]
  },
  {
   "cell_type": "code",
   "execution_count": null,
   "id": "9",
   "metadata": {},
   "outputs": [],
   "source": [
    "\n",
    "image_path = \"test_image_norway2.jpg\"\n",
    "\n",
    "top_pred_gps, top_pred_prob = model.predict(image_path, top_k=5)\n",
    "\n",
    "print(\"Top 5 GPS Predictions\")\n",
    "print(\"=====================\")\n",
    "for i in range(5):\n",
    "    lat, lon = top_pred_gps[i]\n",
    "    location = locator.reverse(\", \".join(map(str, top_pred_gps[i].tolist())), language=\"en\", addressdetails = False, zoom = 0)\n",
    "    print(f\"Prediction {i+1}: ({lat:.6f}, {lon:.6f})\")\n",
    "    print(f\"Location: {location}\")\n",
    "    print(f\"Probability: {top_pred_prob[i]:.6f}\")\n",
    "    print(\"\")"
   ]
  },
  {
   "cell_type": "code",
   "execution_count": null,
   "id": "10",
   "metadata": {},
   "outputs": [],
   "source": [
    "perspective_img = equirectangular_to_perspective(img, fov=90, theta=270, height=480, width=600)\n",
    "\n",
    "plt.imshow(perspective_img)\n",
    "plt.axis('off')\n",
    "plt.show()"
   ]
  },
  {
   "cell_type": "code",
   "execution_count": null,
   "id": "11",
   "metadata": {},
   "outputs": [],
   "source": []
  }
 ],
 "metadata": {
  "kernelspec": {
   "display_name": "Python 3 (ipykernel)",
   "language": "python",
   "name": "python3"
  },
  "language_info": {
   "codemirror_mode": {
    "name": "ipython",
    "version": 3
   },
   "file_extension": ".py",
   "mimetype": "text/x-python",
   "name": "python",
   "nbconvert_exporter": "python",
   "pygments_lexer": "ipython3",
   "version": "3.12.4"
  }
 },
 "nbformat": 4,
 "nbformat_minor": 5
}
