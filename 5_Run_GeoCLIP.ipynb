{
 "cells": [
  {
   "cell_type": "code",
   "execution_count": null,
   "id": "0",
   "metadata": {},
   "outputs": [],
   "source": [
    "import cv2\n",
    "import numpy as np\n",
    "import pandas as pd\n",
    "import torch\n",
    "from geoclip import GeoCLIP\n",
    "from geopy.geocoders import Nominatim\n",
    "import matplotlib.pyplot as plt\n",
    "from collections import Counter\n",
    "from tqdm import tqdm\n",
    "# from io import BytesIO\n",
    "# from PIL import Image"
   ]
  },
  {
   "cell_type": "code",
   "execution_count": null,
   "id": "1",
   "metadata": {},
   "outputs": [],
   "source": [
    "model = GeoCLIP()"
   ]
  },
  {
   "cell_type": "code",
   "execution_count": null,
   "id": "2",
   "metadata": {},
   "outputs": [],
   "source": [
    "locator = Nominatim(user_agent=\"abcd\")"
   ]
  },
  {
   "cell_type": "code",
   "execution_count": null,
   "id": "3",
   "metadata": {},
   "outputs": [],
   "source": [
    "def auto_crop_black_borders(img, threshold=10):\n",
    "    \"\"\"\n",
    "    Crop black borders from the right and bottom of an image.\n",
    "    \n",
    "    Parameters:\n",
    "        img: Input image (NumPy array)\n",
    "        threshold: Pixel intensity threshold to consider a pixel as \"non-black\"\n",
    "    \n",
    "    Returns:\n",
    "        Cropped image (without black borders)\n",
    "    \"\"\"\n",
    "    if len(img.shape) == 3:\n",
    "        gray = cv2.cvtColor(img, cv2.COLOR_BGR2GRAY)\n",
    "    else:\n",
    "        gray = img\n",
    "\n",
    "    # Create a binary mask of non-black pixels\n",
    "    mask = gray > threshold\n",
    "\n",
    "    # Find the bounding box of the non-black area\n",
    "    rows = np.any(mask, axis=1)\n",
    "    cols = np.any(mask, axis=0)\n",
    "\n",
    "    if not np.any(rows) or not np.any(cols):\n",
    "        return img  # nothing to crop\n",
    "\n",
    "    y_min, y_max = np.where(rows)[0][[0, -1]]\n",
    "    x_min, x_max = np.where(cols)[0][[0, -1]]\n",
    "\n",
    "    cropped = img[y_min:y_max+1, x_min:x_max+1]\n",
    "    return cropped"
   ]
  },
  {
   "cell_type": "code",
   "execution_count": null,
   "id": "4",
   "metadata": {},
   "outputs": [],
   "source": [
    "def equirectangular_to_perspective(equi_img, fov, theta, height, width):\n",
    "    \"\"\"\n",
    "    Simplified conversion from equirectangular to perspective.\n",
    "    Only horizontal rotation (theta). No vertical tilt or stretch correction.\n",
    "\n",
    "    Parameters:\n",
    "        equi_img: Equirectangular input image (OpenCV format)\n",
    "        fov: Horizontal field of view in degrees\n",
    "        theta: Yaw angle in degrees (0 = front, 90 = right, etc.)\n",
    "        height, width: Output dimensions\n",
    "\n",
    "    Returns:\n",
    "        Perspective view image\n",
    "    \"\"\"\n",
    "    equ_h, equ_w = equi_img.shape[:2]\n",
    "\n",
    "    # Convert angles to radians\n",
    "    fov_rad = np.deg2rad(fov)\n",
    "    theta_rad = np.deg2rad(theta)\n",
    "\n",
    "    # Grid of x, y in normalized view space\n",
    "    x = np.linspace(-np.tan(fov_rad / 2), np.tan(fov_rad / 2), width)\n",
    "    y = np.linspace(-1, 1, height)  # keep vertical stretch simple\n",
    "    x, y = np.meshgrid(x, -y)  # flip y for image orientation\n",
    "    z = np.ones_like(x)\n",
    "\n",
    "    # Normalize direction vectors\n",
    "    norm = np.sqrt(x**2 + y**2 + z**2)\n",
    "    x /= norm\n",
    "    y /= norm\n",
    "    z /= norm\n",
    "\n",
    "    # Rotate around Y axis (theta)\n",
    "    x_rot = np.cos(theta_rad) * x + np.sin(theta_rad) * z\n",
    "    z_rot = -np.sin(theta_rad) * x + np.cos(theta_rad) * z\n",
    "\n",
    "    # Convert to spherical coordinates\n",
    "    lon = np.arctan2(x_rot, z_rot)\n",
    "    lat = np.arcsin(y)\n",
    "\n",
    "    # Map to image coordinates\n",
    "    u = (lon + np.pi) / (2 * np.pi) * equ_w\n",
    "    v = (np.pi / 2 - lat) / np.pi * equ_h\n",
    "\n",
    "    # Remap\n",
    "    u = u.astype(np.float32)\n",
    "    v = v.astype(np.float32)\n",
    "    perspective = cv2.remap(equi_img, u, v, interpolation=cv2.INTER_LINEAR, borderMode=cv2.BORDER_WRAP)\n",
    "\n",
    "    return perspective"
   ]
  },
  {
   "cell_type": "code",
   "execution_count": null,
   "id": "5",
   "metadata": {},
   "outputs": [],
   "source": [
    "from geopy.extra.rate_limiter import RateLimiter\n",
    "\n",
    "# Initialize geolocator and rate limiter\n",
    "reverse_geocode = RateLimiter(locator.reverse, min_delay_seconds=1)  # limit the frequency of requests\n",
    "\n",
    "# Cache dictionary\n",
    "cache = {}\n",
    "\n",
    "def get_country_with_cache(lat, lon):\n",
    "    key = (round(lat, 1), round(lon, 1))  # round lat/lon to handle small variations\n",
    "    if key in cache:\n",
    "        return cache[key]\n",
    "    \n",
    "    try:\n",
    "        # Perform the reverse geocoding query\n",
    "        location = reverse_geocode(f\"{lat}, {lon}\", language=\"en\", addressdetails=True, zoom=3)\n",
    "        country = location.raw.get('address', {}).get('country', None)\n",
    "        cache[key] = country  # store result in cache\n",
    "        return country\n",
    "    except Exception as e:\n",
    "        return None"
   ]
  },
  {
   "cell_type": "code",
   "execution_count": null,
   "id": "6",
   "metadata": {},
   "outputs": [],
   "source": [
    "df_train_cl = pd.read_pickle(\"intermediate/train_df_clean.pkl\") # replace by cleaned df\n",
    "display(df_train_cl)"
   ]
  },
  {
   "cell_type": "code",
   "execution_count": null,
   "id": "7",
   "metadata": {},
   "outputs": [],
   "source": [
    "img = cv2.imread(df_train_cl['path'][2111])\n",
    "img = cv2.cvtColor(img, cv2.COLOR_BGR2RGB)  # Convert from BGR to RGB\n",
    "img = auto_crop_black_borders(img)\n",
    "\n",
    "plt.imshow(img)\n",
    "plt.axis('off')\n",
    "plt.show()"
   ]
  },
  {
   "cell_type": "code",
   "execution_count": null,
   "id": "8",
   "metadata": {},
   "outputs": [],
   "source": [
    "views = []\n",
    "img = auto_crop_black_borders(img)\n",
    "\n",
    "for i in range(0, 4):\n",
    "    # print(i)     \n",
    "    view = equirectangular_to_perspective(img, fov=90, theta=i*90, height=480, width=600)\n",
    "    cv2.imwrite('intermediate/current_geo_clip_view.jpg', view)\n",
    "\n",
    "    top_pred_gps, top_pred_prob = model.predict('intermediate/current_geo_clip_view.jpg', top_k=3)\n",
    "    \n",
    "    views.append(view)"
   ]
  },
  {
   "cell_type": "code",
   "execution_count": null,
   "id": "9",
   "metadata": {},
   "outputs": [],
   "source": [
    "img = auto_crop_black_borders(img)\n",
    "views = []\n",
    "df = pd.DataFrame(columns=[\"lat\", \"lon\", \"view\", \"rank\"])\n",
    "\n",
    "for i in range(4):  \n",
    "    view = equirectangular_to_perspective(img, fov=90, theta=i*90, height=480, width=600)\n",
    "    views.append(view)\n",
    "    cv2.imwrite('intermediate/current_geo_clip_view.jpg', view)\n",
    "    top_pred_gps, _ = model.predict('intermediate/current_geo_clip_view.jpg', top_k=1)\n",
    "\n",
    "    for rank, coords in enumerate(top_pred_gps.tolist()):\n",
    "        df.loc[len(df)] = [coords[0], coords[1], i, rank]  "
   ]
  },
  {
   "cell_type": "code",
   "execution_count": null,
   "id": "10",
   "metadata": {},
   "outputs": [],
   "source": [
    "plt.imshow(views[0])\n",
    "plt.axis('off')\n",
    "plt.show()"
   ]
  },
  {
   "cell_type": "code",
   "execution_count": null,
   "id": "11",
   "metadata": {},
   "outputs": [],
   "source": [
    "top_pred_gps, top_pred_prob = model.predict('intermediate/current_geo_clip_view.jpg', top_k=5)"
   ]
  },
  {
   "cell_type": "code",
   "execution_count": null,
   "id": "12",
   "metadata": {},
   "outputs": [],
   "source": [
    "top_pred_gps"
   ]
  },
  {
   "cell_type": "code",
   "execution_count": null,
   "id": "13",
   "metadata": {},
   "outputs": [],
   "source": [
    "df['country'] = df.apply(\n",
    "    lambda row: locator.reverse(f\"{row['lat']}, {row['lon']}\", language=\"en\", addressdetails=False, zoom=0),    \n",
    "    axis=1\n",
    ")"
   ]
  },
  {
   "cell_type": "code",
   "execution_count": null,
   "id": "14",
   "metadata": {},
   "outputs": [],
   "source": [
    "display(df)"
   ]
  },
  {
   "cell_type": "code",
   "execution_count": null,
   "id": "15",
   "metadata": {},
   "outputs": [],
   "source": [
    "def process_image(image_path):\n",
    "    \"\"\"Process one image: split into 4 slices, predict countries, and return majority vote.\"\"\"\n",
    "    img = cv2.imread(image_path)\n",
    "    img = auto_crop_black_borders(img)  # Optional, remove black borders if needed\n",
    "    \n",
    "    countries = []\n",
    "    \n",
    "    # Split the image into 4 slices and predict for each slice\n",
    "    for i in range(4):\n",
    "        view = equirectangular_to_perspective(img, fov=90, theta=i*90, height=480, width=600)\n",
    "        cv2.imwrite('intermediate/current_geo_clip_view.jpg', view)\n",
    "        \n",
    "        # Predict the coordinates for the slice\n",
    "        top_pred_gps, _ = model.predict('intermediate/current_geo_clip_view.jpg', top_k=3)\n",
    "        \n",
    "        # Get the country from the first prediction (or use your cache function)\n",
    "        lat, lon = top_pred_gps[0].tolist()\n",
    "        country = get_country_with_cache(lat, lon)  # using your cache function\n",
    "        \n",
    "        countries.append(country)\n",
    "    \n",
    "    # Majority vote (most frequent country)\n",
    "    country_counts = Counter(countries)\n",
    "    \n",
    "    # Check if the most common country appears at least twice (i.e., 2 out of 4 slices)\n",
    "    most_common_country, count = country_counts.most_common(1)[0]\n",
    "    \n",
    "    if count >= 2:  # Majority vote: country needs at least 2 votes\n",
    "        majority_country = most_common_country\n",
    "    else:\n",
    "        majority_country = countries[0]  # No majority, keep the first slice's country\n",
    "    \n",
    "    return majority_country\n"
   ]
  },
  {
   "cell_type": "code",
   "execution_count": null,
   "id": "16",
   "metadata": {},
   "outputs": [],
   "source": [
    "tqdm.pandas() # to see a progress bar\n",
    "\n",
    "df_train_cl['majority_country'] = df_train_cl['path'].progress_apply(process_image)"
   ]
  },
  {
   "cell_type": "code",
   "execution_count": null,
   "id": "17",
   "metadata": {},
   "outputs": [],
   "source": []
  }
 ],
 "metadata": {
  "kernelspec": {
   "display_name": "Python 3 (ipykernel)",
   "language": "python",
   "name": "python3"
  },
  "language_info": {
   "codemirror_mode": {
    "name": "ipython",
    "version": 3
   },
   "file_extension": ".py",
   "mimetype": "text/x-python",
   "name": "python",
   "nbconvert_exporter": "python",
   "pygments_lexer": "ipython3",
   "version": "3.12.4"
  }
 },
 "nbformat": 4,
 "nbformat_minor": 5
}
