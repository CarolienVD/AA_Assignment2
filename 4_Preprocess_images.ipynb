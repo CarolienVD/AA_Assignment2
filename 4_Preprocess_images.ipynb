{
 "cells": [
  {
   "cell_type": "code",
   "execution_count": null,
   "id": "0",
   "metadata": {},
   "outputs": [],
   "source": [
    "import cv2\n",
    "import numpy as np\n",
    "import pandas as pd\n",
    "import os\n",
    "from tqdm import tqdm\n",
    "import matplotlib.pyplot as plt"
   ]
  },
  {
   "cell_type": "code",
   "execution_count": null,
   "id": "1",
   "metadata": {},
   "outputs": [],
   "source": [
    "pd.set_option('display.max_colwidth', None)"
   ]
  },
  {
   "cell_type": "code",
   "execution_count": null,
   "id": "2",
   "metadata": {},
   "outputs": [],
   "source": [
    "df_train = pd.read_pickle(\"intermediate/train_df.pkl\") "
   ]
  },
  {
   "cell_type": "code",
   "execution_count": null,
   "id": "3",
   "metadata": {},
   "outputs": [],
   "source": [
    "def auto_crop_black_borders(img, threshold=10):\n",
    "    \"\"\"\n",
    "    Crop black borders from the right and bottom of an image.\n",
    "    \n",
    "    Parameters:\n",
    "        img: Input image (NumPy array)\n",
    "        threshold: Pixel intensity threshold to consider a pixel as \"non-black\"\n",
    "    \n",
    "    Returns:\n",
    "        Cropped image (without black borders)\n",
    "    \"\"\"\n",
    "    if len(img.shape) == 3:\n",
    "        gray = cv2.cvtColor(img, cv2.COLOR_BGR2GRAY)\n",
    "    else:\n",
    "        gray = img\n",
    "\n",
    "    # Create a binary mask of non-black pixels\n",
    "    mask = gray > threshold\n",
    "\n",
    "    # Find the bounding box of the non-black area\n",
    "    rows = np.any(mask, axis=1)\n",
    "    cols = np.any(mask, axis=0)\n",
    "\n",
    "    if not np.any(rows) or not np.any(cols):\n",
    "        return img  # nothing to crop\n",
    "\n",
    "    y_min, y_max = np.where(rows)[0][[0, -1]]\n",
    "    x_min, x_max = np.where(cols)[0][[0, -1]]\n",
    "\n",
    "    cropped = img[y_min:y_max+1, x_min:x_max+1]\n",
    "    return cropped"
   ]
  },
  {
   "cell_type": "code",
   "execution_count": null,
   "id": "4",
   "metadata": {},
   "outputs": [],
   "source": [
    "def split_by_color_dominance(df, path_col='path', threshold=0.25):\n",
    "    good, bad = [], []\n",
    "\n",
    "    for _, row in tqdm(df.iterrows(), total=len(df)):\n",
    "        path = row[path_col]\n",
    "        img = cv2.imread(path)\n",
    "        if img is None:\n",
    "            continue\n",
    "\n",
    "        img = auto_crop_black_borders(img)\n",
    "        b, g, r = cv2.split(img)\n",
    "        total = b.astype(np.float32) + g + r + 1e-5\n",
    "        ratios = [np.mean(c / total) for c in (r, g, b)]\n",
    "\n",
    "        (good if min(ratios) > threshold else bad).append(row)\n",
    "\n",
    "    return pd.DataFrame(good), pd.DataFrame(bad)"
   ]
  },
  {
   "cell_type": "code",
   "execution_count": null,
   "id": "5",
   "metadata": {},
   "outputs": [],
   "source": [
    "clean_df, removed_df = split_by_color_dominance(df_train)"
   ]
  },
  {
   "cell_type": "code",
   "execution_count": null,
   "id": "6",
   "metadata": {},
   "outputs": [],
   "source": [
    "clean_df.to_pickle(\"intermediate/train_df_clean.pkl\") "
   ]
  },
  {
   "cell_type": "code",
   "execution_count": null,
   "id": "7",
   "metadata": {},
   "outputs": [],
   "source": [
    "display(clean_df)"
   ]
  },
  {
   "cell_type": "code",
   "execution_count": null,
   "id": "8",
   "metadata": {},
   "outputs": [],
   "source": [
    "display(removed_df) # A few (2 or 3) examples should not have been removed, but overall this looks okay"
   ]
  },
  {
   "cell_type": "code",
   "execution_count": null,
   "id": "9",
   "metadata": {},
   "outputs": [],
   "source": []
  },
  {
   "cell_type": "code",
   "execution_count": null,
   "id": "10",
   "metadata": {},
   "outputs": [],
   "source": []
  },
  {
   "cell_type": "code",
   "execution_count": null,
   "id": "11",
   "metadata": {},
   "outputs": [],
   "source": [
    "equi = cv2.imread('images/austria/1741687685_46.9949153_10.2621859.jpg')\n",
    "\n",
    "img = cv2.cvtColor(equi, cv2.COLOR_BGR2RGB)  # Convert from BGR to RGB\n",
    "\n",
    "plt.imshow(img)\n",
    "plt.axis('off')\n",
    "plt.show()"
   ]
  },
  {
   "cell_type": "code",
   "execution_count": null,
   "id": "12",
   "metadata": {},
   "outputs": [],
   "source": [
    "img = cv2.imread('images/france/1741690227_46.0110081_6.5302306.jpg')\n",
    "\n",
    "b, g, r = cv2.split(img)\n",
    "total = b.astype(np.float32) + g + r + 1e-5\n",
    "ratios = [np.mean(c / total) for c in (r, g, b)]\n",
    "\n",
    "print(ratios)"
   ]
  },
  {
   "cell_type": "code",
   "execution_count": null,
   "id": "13",
   "metadata": {},
   "outputs": [],
   "source": [
    "img = cv2.imread('images/italy/1741690057_45.4795205_7.1412341.jpg')\n",
    "\n",
    "b, g, r = cv2.split(img)\n",
    "total = b.astype(np.float32) + g + r + 1e-5\n",
    "ratios = [np.mean(c / total) for c in (r, g, b)]\n",
    "\n",
    "print(ratios)"
   ]
  },
  {
   "cell_type": "code",
   "execution_count": null,
   "id": "14",
   "metadata": {},
   "outputs": [],
   "source": []
  }
 ],
 "metadata": {
  "kernelspec": {
   "display_name": "Python 3 (ipykernel)",
   "language": "python",
   "name": "python3"
  },
  "language_info": {
   "codemirror_mode": {
    "name": "ipython",
    "version": 3
   },
   "file_extension": ".py",
   "mimetype": "text/x-python",
   "name": "python",
   "nbconvert_exporter": "python",
   "pygments_lexer": "ipython3",
   "version": "3.12.4"
  }
 },
 "nbformat": 4,
 "nbformat_minor": 5
}
