{
 "cells": [
  {
   "cell_type": "code",
   "execution_count": null,
   "id": "0",
   "metadata": {},
   "outputs": [],
   "source": [
    "import cv2\n",
    "import numpy as np\n",
    "import pandas as pd\n",
    "import os\n",
    "from tqdm import tqdm\n",
    "import matplotlib.pyplot as plt"
   ]
  },
  {
   "cell_type": "code",
   "execution_count": null,
   "id": "1",
   "metadata": {},
   "outputs": [],
   "source": [
    "pd.set_option('display.max_colwidth', None)"
   ]
  },
  {
   "cell_type": "code",
   "execution_count": null,
   "id": "2",
   "metadata": {},
   "outputs": [],
   "source": [
    "df_train = pd.read_pickle(\"intermediate/train_df.pkl\") "
   ]
  },
  {
   "cell_type": "code",
   "execution_count": null,
   "id": "3",
   "metadata": {},
   "outputs": [],
   "source": [
    "def auto_crop_black_borders(img, threshold=10):\n",
    "    \"\"\"\n",
    "    Crop black borders from the right and bottom of an image.\n",
    "    \n",
    "    Parameters:\n",
    "        img: Input image (NumPy array)\n",
    "        threshold: Pixel intensity threshold to consider a pixel as \"non-black\"\n",
    "    \n",
    "    Returns:\n",
    "        Cropped image (without black borders)\n",
    "    \"\"\"\n",
    "    if len(img.shape) == 3:\n",
    "        gray = cv2.cvtColor(img, cv2.COLOR_BGR2GRAY)\n",
    "    else:\n",
    "        gray = img\n",
    "\n",
    "    # Create a binary mask of non-black pixels\n",
    "    mask = gray > threshold\n",
    "\n",
    "    # Find the bounding box of the non-black area\n",
    "    rows = np.any(mask, axis=1)\n",
    "    cols = np.any(mask, axis=0)\n",
    "\n",
    "    if not np.any(rows) or not np.any(cols):\n",
    "        return img  # nothing to crop\n",
    "\n",
    "    y_min, y_max = np.where(rows)[0][[0, -1]]\n",
    "    x_min, x_max = np.where(cols)[0][[0, -1]]\n",
    "\n",
    "    cropped = img[y_min:y_max+1, x_min:x_max+1]\n",
    "    return cropped"
   ]
  },
  {
   "cell_type": "code",
   "execution_count": null,
   "id": "4",
   "metadata": {},
   "outputs": [],
   "source": [
    "def split_by_color_dominance(df, path_col='path', threshold=0.25):\n",
    "    good, bad = [], []\n",
    "\n",
    "    for _, row in tqdm(df.iterrows(), total=len(df)):\n",
    "        path = row[path_col]\n",
    "        img = cv2.imread(path)\n",
    "        if img is None:\n",
    "            continue\n",
    "\n",
    "        img = auto_crop_black_borders(img)\n",
    "        b, g, r = cv2.split(img)\n",
    "        total = b.astype(np.float32) + g + r + 1e-5\n",
    "        ratios = [np.mean(c / total) for c in (r, g, b)]\n",
    "\n",
    "        (good if min(ratios) > threshold else bad).append(row)\n",
    "\n",
    "    return pd.DataFrame(good), pd.DataFrame(bad)"
   ]
  },
  {
   "cell_type": "code",
   "execution_count": null,
   "id": "5",
   "metadata": {},
   "outputs": [],
   "source": [
    "clean_df, removed_df = split_by_color_dominance(df_train)"
   ]
  },
  {
   "cell_type": "code",
   "execution_count": null,
   "id": "6",
   "metadata": {},
   "outputs": [],
   "source": [
    "clean_df.to_pickle(\"intermediate/train_df_clean.pkl\") "
   ]
  },
  {
   "cell_type": "code",
   "execution_count": null,
   "id": "7",
   "metadata": {},
   "outputs": [],
   "source": [
    "display(clean_df)"
   ]
  },
  {
   "cell_type": "code",
   "execution_count": null,
   "id": "8",
   "metadata": {},
   "outputs": [],
   "source": [
    "display(removed_df) # A few (2 or 3) examples should not have been removed, but overall this looks okay"
   ]
  },
  {
   "cell_type": "code",
   "execution_count": null,
   "id": "9",
   "metadata": {},
   "outputs": [],
   "source": []
  },
  {
   "cell_type": "code",
   "execution_count": null,
   "id": "10",
   "metadata": {},
   "outputs": [],
   "source": []
  },
  {
   "cell_type": "code",
   "execution_count": null,
   "id": "11",
   "metadata": {},
   "outputs": [],
   "source": [
    "equi = cv2.imread('images/argentina/1741691181_-22.1240522_-65.5582202.jpg')\n",
    "\n",
    "img = cv2.cvtColor(equi, cv2.COLOR_BGR2RGB)  # Convert from BGR to RGB\n",
    "\n",
    "plt.imshow(img)\n",
    "plt.axis('off')\n",
    "plt.show()"
   ]
  },
  {
   "cell_type": "code",
   "execution_count": null,
   "id": "12",
   "metadata": {},
   "outputs": [],
   "source": [
    "img = cv2.imread('images/france/1741690227_46.0110081_6.5302306.jpg')\n",
    "\n",
    "b, g, r = cv2.split(img)\n",
    "total = b.astype(np.float32) + g + r + 1e-5\n",
    "ratios = [np.mean(c / total) for c in (r, g, b)]\n",
    "\n",
    "print(ratios)"
   ]
  },
  {
   "cell_type": "code",
   "execution_count": null,
   "id": "13",
   "metadata": {},
   "outputs": [],
   "source": [
    "img = cv2.imread('images/italy/1741690057_45.4795205_7.1412341.jpg')\n",
    "\n",
    "b, g, r = cv2.split(img)\n",
    "total = b.astype(np.float32) + g + r + 1e-5\n",
    "ratios = [np.mean(c / total) for c in (r, g, b)]\n",
    "\n",
    "print(ratios)"
   ]
  },
  {
   "cell_type": "code",
   "execution_count": null,
   "id": "14",
   "metadata": {},
   "outputs": [],
   "source": [
    "def equirectangular_to_perspective(equi_img, fov, theta, size=512):\n",
    "    \"\"\"\n",
    "    Convert equirectangular image to perspective (square output).\n",
    "\n",
    "    Parameters:\n",
    "        equi_img: Input equirectangular image\n",
    "        fov: Horizontal field of view (degrees)\n",
    "        theta: Yaw angle (degrees)\n",
    "        size: Output image size (height = width = size)\n",
    "\n",
    "    Returns:\n",
    "        Perspective projection image\n",
    "    \"\"\"\n",
    "    height, width = size, size\n",
    "    equ_h, equ_w = equi_img.shape[:2]\n",
    "\n",
    "    # Convert angles to radians\n",
    "    fov_rad = np.deg2rad(fov)\n",
    "    theta_rad = np.deg2rad(theta)\n",
    "\n",
    "    # Grid of x, y in normalized view space\n",
    "    x = np.linspace(-np.tan(fov_rad / 2), np.tan(fov_rad / 2), width)\n",
    "    y = np.linspace(-1, 1, height)  # keep vertical stretch simple\n",
    "    x, y = np.meshgrid(x, -y)  # flip y for image orientation\n",
    "    z = np.ones_like(x)\n",
    "\n",
    "    # Normalize direction vectors\n",
    "    norm = np.sqrt(x**2 + y**2 + z**2)\n",
    "    x /= norm\n",
    "    y /= norm\n",
    "    z /= norm\n",
    "\n",
    "    # Rotate around Y axis (theta)\n",
    "    x_rot = np.cos(theta_rad) * x + np.sin(theta_rad) * z\n",
    "    z_rot = -np.sin(theta_rad) * x + np.cos(theta_rad) * z\n",
    "\n",
    "    # Convert to spherical coordinates\n",
    "    lon = np.arctan2(x_rot, z_rot)\n",
    "    lat = np.arcsin(y)\n",
    "\n",
    "    # Map to image coordinates\n",
    "    u = (lon + np.pi) / (2 * np.pi) * equ_w\n",
    "    v = (np.pi / 2 - lat) / np.pi * equ_h\n",
    "\n",
    "    # Remap\n",
    "    u = u.astype(np.float32)\n",
    "    v = v.astype(np.float32)\n",
    "    perspective = cv2.remap(equi_img, u, v, interpolation=cv2.INTER_LINEAR, borderMode=cv2.BORDER_WRAP)\n",
    "\n",
    "    return perspective"
   ]
  },
  {
   "cell_type": "code",
   "execution_count": null,
   "id": "15",
   "metadata": {},
   "outputs": [],
   "source": [
    "clean_df = pd.read_pickle(\"intermediate/train_df_clean.pkl\")  "
   ]
  },
  {
   "cell_type": "code",
   "execution_count": null,
   "id": "16",
   "metadata": {},
   "outputs": [],
   "source": [
    "def slice_square_images(image_path, size = 512):\n",
    "    img = cv2.imread(image_path)\n",
    "    img = auto_crop_black_borders(img)  # Remove black borders if needed\n",
    "\n",
    "    views = ['front', 'right', 'back', 'left']\n",
    "\n",
    "    image_name = image_path.split('/')[2].replace('.jpg', '')\n",
    "    country = image_path.split('/')[1]\n",
    "    \n",
    "    output_folder = 'train_images_square/' + country + '/'\n",
    "    if not os.path.exists(output_folder):\n",
    "        os.makedirs(output_folder)\n",
    "\n",
    "    for i in range(4):  \n",
    "        view = equirectangular_to_perspective(img, fov=90, theta=i*90, size = size)\n",
    "\n",
    "        # plt.imshow(view)\n",
    "        # plt.axis('off')\n",
    "        # plt.show()\n",
    "        \n",
    "        new_image_path = os.path.join(output_folder + f\"{image_name}_{views[i]}.jpg\")\n",
    "        cv2.imwrite(new_image_path, view)"
   ]
  },
  {
   "cell_type": "code",
   "execution_count": null,
   "id": "17",
   "metadata": {},
   "outputs": [],
   "source": [
    "slice_square_images('images/argentina/1741691181_-22.1240522_-65.5582202.jpg')"
   ]
  },
  {
   "cell_type": "code",
   "execution_count": null,
   "id": "18",
   "metadata": {},
   "outputs": [],
   "source": [
    "tqdm.pandas() # to see a progress bar\n",
    "\n",
    "clean_df['path'].progress_apply(slice_square_images)"
   ]
  },
  {
   "cell_type": "code",
   "execution_count": null,
   "id": "19",
   "metadata": {},
   "outputs": [],
   "source": []
  }
 ],
 "metadata": {
  "kernelspec": {
   "display_name": "Python 3 (ipykernel)",
   "language": "python",
   "name": "python3"
  },
  "language_info": {
   "codemirror_mode": {
    "name": "ipython",
    "version": 3
   },
   "file_extension": ".py",
   "mimetype": "text/x-python",
   "name": "python",
   "nbconvert_exporter": "python",
   "pygments_lexer": "ipython3",
   "version": "3.12.4"
  }
 },
 "nbformat": 4,
 "nbformat_minor": 5
}
